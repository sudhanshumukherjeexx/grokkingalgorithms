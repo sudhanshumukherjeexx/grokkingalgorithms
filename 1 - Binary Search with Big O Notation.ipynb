{
 "cells": [
  {
   "cell_type": "markdown",
   "id": "d411055f",
   "metadata": {},
   "source": [
    "## Binary Search"
   ]
  },
  {
   "cell_type": "markdown",
   "id": "0fa7f27e",
   "metadata": {},
   "source": [
    "- __an algorithm is a set of instructions for accomplishing a task__\n",
    "- __A GPS device uses GRAPH algorithms to calculate shortest route to your destination.__\n",
    "-  __Binary Search - Searching a person name in the phonebook(K), searching a word in the dictionary(O), Facebook using binary search to look for the username \"Karlmageddon\" from the middle.__\n",
    "- __Binary search is an algorithm; it's input is sorted list of elements.__\n",
    "- __with binary search, you guess the middle number and eliminate half the remaining everytime.__\n",
    "- __for any list of *n* elements, binary search will take log n base 2 stepts for calculating the position.__"
   ]
  },
  {
   "cell_type": "code",
   "execution_count": 1,
   "id": "167d1d69",
   "metadata": {},
   "outputs": [],
   "source": [
    "def binary_search(mylist, item):\n",
    "    \"\"\"\n",
    "    This is an implementation of Binary Search.\n",
    "    \"\"\"\n",
    "    #low and high will keep track of which part of the list you will search in.\n",
    "    low = 0                        \n",
    "    high = len(mylist) - 1\n",
    "    \n",
    "    #while we haven't narrowed it down to one element\n",
    "    while low <= high:\n",
    "        #lets check the middle element first\n",
    "        mid = low + high\n",
    "        guess = mylist[mid]\n",
    "        if guess == item:\n",
    "            #if we found the item\n",
    "            return mid\n",
    "        if guess > item:\n",
    "            #if the guess was too high\n",
    "            high = mid - 1\n",
    "        else:\n",
    "            #if the guess was too low\n",
    "            low = mid + 1\n",
    "    return None\n",
    "    #the item does not exist"
   ]
  },
  {
   "cell_type": "code",
   "execution_count": 2,
   "id": "dfecdf7a",
   "metadata": {},
   "outputs": [],
   "source": [
    "x = [5,4,3,2,1]\n",
    "x.sort()"
   ]
  },
  {
   "cell_type": "code",
   "execution_count": 3,
   "id": "aa5f9282",
   "metadata": {},
   "outputs": [
    {
     "name": "stdout",
     "output_type": "stream",
     "text": [
      "[1, 2, 3, 4, 5]\n",
      "**************\n",
      "2\n"
     ]
    }
   ],
   "source": [
    "print(x)\n",
    "print(\"**************\")\n",
    "print(binary_search(x, 3))"
   ]
  },
  {
   "cell_type": "markdown",
   "id": "0c147607",
   "metadata": {},
   "source": [
    "### Exercises \n"
   ]
  },
  {
   "cell_type": "markdown",
   "id": "b2226fbe",
   "metadata": {},
   "source": [
    "- 1.1  Suppose you have a sorted list of 128 names, and you’re searching through it using binary search. What’s the maximum number of steps it would take?\n",
    "- 1.2 Suppose you double the size of the list. What’s the maximum number of steps now?"
   ]
  },
  {
   "cell_type": "markdown",
   "id": "eb5468bd",
   "metadata": {},
   "source": [
    "### Answers\n"
   ]
  },
  {
   "cell_type": "markdown",
   "id": "e64e421b",
   "metadata": {},
   "source": [
    "- Maximum number of steps involved for a sorted list of 128 elements is 7 steps\n",
    "- Maximum number of steps involved for a sorted list of 128 elements is 8 steps"
   ]
  },
  {
   "cell_type": "code",
   "execution_count": 4,
   "id": "fc1ad0e6",
   "metadata": {},
   "outputs": [],
   "source": [
    "def binary_search(my_list, item):\n",
    "    low = 0\n",
    "    high = len(my_list) - 1\n",
    "    \n",
    "    while low <= high:\n",
    "        mid = low + high\n",
    "        guess = my_list[mid]\n",
    "        \n",
    "        if guess == item:\n",
    "            return mid\n",
    "        elif guess > item:\n",
    "            high = mid - 1\n",
    "        else:\n",
    "            low = mid + 1\n",
    "    return None"
   ]
  },
  {
   "cell_type": "code",
   "execution_count": 5,
   "id": "1f79f5dc",
   "metadata": {},
   "outputs": [
    {
     "data": {
      "text/plain": [
       "0"
      ]
     },
     "execution_count": 5,
     "metadata": {},
     "output_type": "execute_result"
    }
   ],
   "source": [
    "my_list = [2,3,4,5,6]\n",
    "binary_search(my_list, 2)"
   ]
  },
  {
   "cell_type": "markdown",
   "id": "9f8b6d40",
   "metadata": {},
   "source": [
    "## Big O Notation\n",
    "\n",
    "- __Big \"O\" Notation__ is a special notation that tell you how fast an algorithm is. Big O notation lets you compare number of operations. It tells you how fast an algorithm grows. Big O Notation gives you the time for worst case scenario.\n",
    "- Whenever we talk about algorithms, Running time plays a huge role in terms of efficiency irrespective of whether we are trying to optimize it for time or space.\n",
    "\n",
    "- Linear Time : If we are implementing SIMPLE SEARCH (i.e) trying to search a particular number in the list of 100000 items then normally we would need 100000 Guesses to guess the index of the given number and this is known as LINEAR TIME. __Linear Run Time is denoted by O(n) for Simple Search Algorithm.__\n",
    "\n",
    "- In BINARY SEARCH, if we are trying to guess the number in the list of 100 items then it would take at most 7 guesses and if the list contain 4 Billion items then it would take at most 32 guesses to guess the right number. The main reason behind binary search taking less time is Binary Search runs on LOGARITHMIC TIME (log time). __Logarithmic Run Time is denoted by O(log n) for Binary Search Algorithm__\n",
    "- Run time for Binary search and Simple search don't grow at the same rate."
   ]
  },
  {
   "cell_type": "markdown",
   "id": "1cfc9685",
   "metadata": {},
   "source": [
    "### Exercises"
   ]
  },
  {
   "cell_type": "markdown",
   "id": "aab648c0",
   "metadata": {},
   "source": [
    "Give the run time for each of these scenarios in terms of Big O.\n",
    "- 1.3 You have a name, and you want to find the person’s phone number in the phone book.\n",
    "- 1.4 You have a phone number, and you want to find the person’s name in the phone book. (Hint: You’ll have to search through the whole book!)\n",
    "- 1.5 You want to read the numbers of every person in the phone book.\n",
    "- 1.6 You want to read the numbers of just the As. (his is a tricky one! It involves concepts that are covered more in chapter 4. Read the answer—you may be surprised!)\n"
   ]
  },
  {
   "cell_type": "markdown",
   "id": "e8fbab23",
   "metadata": {},
   "source": [
    "### Answers\n",
    "\n",
    "- 1.3 __Olog(n)__\n",
    "- 1.4 __O(n)__\n",
    "- 1.5 __O(n)__\n",
    "- 1.6 __O(n)__"
   ]
  },
  {
   "cell_type": "code",
   "execution_count": null,
   "id": "c5085019",
   "metadata": {},
   "outputs": [],
   "source": []
  },
  {
   "cell_type": "code",
   "execution_count": null,
   "id": "397b020a",
   "metadata": {},
   "outputs": [],
   "source": []
  },
  {
   "cell_type": "code",
   "execution_count": null,
   "id": "713b36b1",
   "metadata": {},
   "outputs": [],
   "source": []
  },
  {
   "cell_type": "code",
   "execution_count": null,
   "id": "4df6b757",
   "metadata": {},
   "outputs": [],
   "source": []
  }
 ],
 "metadata": {
  "kernelspec": {
   "display_name": "Python 3 (ipykernel)",
   "language": "python",
   "name": "python3"
  },
  "language_info": {
   "codemirror_mode": {
    "name": "ipython",
    "version": 3
   },
   "file_extension": ".py",
   "mimetype": "text/x-python",
   "name": "python",
   "nbconvert_exporter": "python",
   "pygments_lexer": "ipython3",
   "version": "3.9.7"
  }
 },
 "nbformat": 4,
 "nbformat_minor": 5
}
