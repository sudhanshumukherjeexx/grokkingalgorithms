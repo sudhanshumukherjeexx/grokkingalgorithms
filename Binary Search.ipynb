{
 "cells": [
  {
   "cell_type": "markdown",
   "id": "d411055f",
   "metadata": {},
   "source": [
    "## Binary Search"
   ]
  },
  {
   "cell_type": "markdown",
   "id": "0fa7f27e",
   "metadata": {},
   "source": [
    "- __an algorithm is a set of instructions for accomplishing a task__\n",
    "- __A GPS device uses GRAPH algorithms to calculate shortest route to your destination.__\n",
    "-  __Binary Search - Searching a person name in the phonebook(K), searching a word in the dictionary(O), Facebook using binary search to look for the username \"Karlmageddon\" from the middle.__\n",
    "- __Binary search is an algorithm; it's input is sorted list of elements.__\n",
    "- __with binary search, you guess the middle number and eliminate half the remaining everytime.__\n",
    "- __for any list of *n* elements, binary search will take log n base 2 stepts for calculating the position.__"
   ]
  },
  {
   "cell_type": "code",
   "execution_count": 1,
   "id": "167d1d69",
   "metadata": {},
   "outputs": [],
   "source": [
    "def binary_search(mylist, item):\n",
    "    \"\"\"\n",
    "    This is an implementation of Binary Search.\n",
    "    \"\"\"\n",
    "    #low and high will keep track of which part of the list you will search in.\n",
    "    low = 0                        \n",
    "    high = len(mylist) - 1\n",
    "    \n",
    "    #while we haven't narrowed it down to one element\n",
    "    while low <= high:\n",
    "        #lets check the middle element first\n",
    "        mid = low + high\n",
    "        guess = mylist[mid]\n",
    "        if guess == item:\n",
    "            #if we found the item\n",
    "            return mid\n",
    "        if guess > item:\n",
    "            #if the guess was too high\n",
    "            high = mid - 1\n",
    "        else:\n",
    "            #if the guess was too low\n",
    "            low = mid + 1\n",
    "    return None\n",
    "    #the item does not exist"
   ]
  },
  {
   "cell_type": "code",
   "execution_count": 2,
   "id": "dfecdf7a",
   "metadata": {},
   "outputs": [],
   "source": [
    "x = [5,4,3,2,1]\n",
    "x.sort()"
   ]
  },
  {
   "cell_type": "code",
   "execution_count": 3,
   "id": "aa5f9282",
   "metadata": {},
   "outputs": [
    {
     "name": "stdout",
     "output_type": "stream",
     "text": [
      "[1, 2, 3, 4, 5]\n",
      "**************\n",
      "2\n"
     ]
    }
   ],
   "source": [
    "print(x)\n",
    "print(\"**************\")\n",
    "print(binary_search(x, 3))"
   ]
  },
  {
   "cell_type": "markdown",
   "id": "0c147607",
   "metadata": {},
   "source": [
    "### Exercises \n"
   ]
  },
  {
   "cell_type": "markdown",
   "id": "b2226fbe",
   "metadata": {},
   "source": [
    "- 1.1  Suppose you have a sorted list of 128 names, and you’re searching through it using binary search. What’s the maximum number of steps it would take?\n",
    "- 1.2 Suppose you double the size of the list. What’s the maximum number of steps now?"
   ]
  },
  {
   "cell_type": "markdown",
   "id": "eb5468bd",
   "metadata": {},
   "source": [
    "### Answers\n"
   ]
  },
  {
   "cell_type": "markdown",
   "id": "e64e421b",
   "metadata": {},
   "source": [
    "- Maximum number of steps involved for a sorted list of 128 elements is 7 steps\n",
    "- Maximum number of steps involved for a sorted list of 128 elements is 8 steps"
   ]
  },
  {
   "cell_type": "code",
   "execution_count": null,
   "id": "fc1ad0e6",
   "metadata": {},
   "outputs": [],
   "source": []
  }
 ],
 "metadata": {
  "kernelspec": {
   "display_name": "Python 3 (ipykernel)",
   "language": "python",
   "name": "python3"
  },
  "language_info": {
   "codemirror_mode": {
    "name": "ipython",
    "version": 3
   },
   "file_extension": ".py",
   "mimetype": "text/x-python",
   "name": "python",
   "nbconvert_exporter": "python",
   "pygments_lexer": "ipython3",
   "version": "3.9.7"
  }
 },
 "nbformat": 4,
 "nbformat_minor": 5
}
