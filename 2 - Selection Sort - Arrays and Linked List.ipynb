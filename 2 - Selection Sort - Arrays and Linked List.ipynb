{
 "cells": [
  {
   "cell_type": "markdown",
   "id": "dd3cdc63",
   "metadata": {},
   "source": [
    "## Arrays and Linked Lists"
   ]
  },
  {
   "cell_type": "markdown",
   "id": "415f95b8",
   "metadata": {},
   "source": [
    "### Arrays\n",
    "- In arrays all our elements are stored contiguously(right next to each other) in memory.\n",
    "- Adding new items in an array can be a big pain, because when you are out of space and need to move to a new spot in memory every time, adding a new item will be really slow.\n",
    "- (i) We can fix the problem by allocating the size of the array at first and hold the memory for the task. Although, the down side to this problem is you may not need the memory which you have already kept on hold and that memory can be wasted.\n",
    "- (ii) You may add more than 10 items in your task list and have to move anyway.\n",
    "__Linked Lists solve this problem of adding items.__ \n",
    "- Arrays are great if you want to read random elements, because you can look up any element in you array instantly.\n",
    "- The elements in an array are numbered and the numbering starts from 0. 10,20,30,40 - 10 is at position 0 and 20 is at position 1. The position of an element is called its index. So it means, 10 is index 0 and 20 is at index 1.\n",
    "- Almost every programming language you will use number array elements starting at 0.\n",
    "\n",
    "### Linked Lists\n",
    "- In linked lists, your items can be anywhere in the memory.\n",
    "- Each item stores the address of the next item in the list.\n",
    "- In linked lists, you don't have to worry about the space which is contiguous, as long as there is free space in the memory, Linked lists can accomodate itself.\n",
    "- Linked lists are great if you're going to read all the items one at a time and go in the incremental order, but if you are going to keep jumping around, linked lists are terrible. \n",
    "- Arrays are different, you know the address for every item in your array."
   ]
  },
  {
   "cell_type": "markdown",
   "id": "280810cc",
   "metadata": {},
   "source": [
    "## Insertion of an element in the Middle\n",
    "- Suppose you are making a ToDo list for all of your tasks and you are making it according to the timing of the day. What would you choose an Array or Linked List for the operation."
   ]
  },
  {
   "cell_type": "markdown",
   "id": "de6fe7c3",
   "metadata": {},
   "source": [
    "__Performing this task using an Array can be terrifying and inefficient because when you want to insert an element in an array, you would have to shift all the element - after where you wish to insert an element and if memory space is not available then you would have to move entire elements to a new memeory space.__"
   ]
  },
  {
   "cell_type": "markdown",
   "id": "dbe9140e",
   "metadata": {},
   "source": [
    "__In Linked Lists, Insertion of an element in the middle is an easier task because in linked list you just have to point the element to a next element after it. Therefore, inserting an element in Linked List is easier than inserting an element in an Array.__"
   ]
  },
  {
   "cell_type": "markdown",
   "id": "9cc4b8f6",
   "metadata": {},
   "source": [
    "## Deletions\n",
    "- What if you want to delete an element?"
   ]
  },
  {
   "cell_type": "markdown",
   "id": "c5e759d7",
   "metadata": {},
   "source": [
    "- __Again, Linked Lists are better because you just have to change what the previous elements points to.__\n",
    "- __However in Arrays you have to shift everything up when you delete an element.__"
   ]
  },
  {
   "cell_type": "markdown",
   "id": "3d70d388",
   "metadata": {},
   "source": [
    "### Here are the run times for common operations on arrays and linked lists\n",
    "             Arrays       Linked_Lists\n",
    "Reading----------O(1)------------------------O(1)\n",
    "\n",
    "Insertion--------O(n)------------------------O(1)\n",
    "\n",
    "Deletion---------O(n)------------------------O(1)"
   ]
  },
  {
   "cell_type": "markdown",
   "id": "4000e02a",
   "metadata": {},
   "source": [
    "- Which are used more Arrays or Linked Lists?"
   ]
  },
  {
   "cell_type": "markdown",
   "id": "e191758a",
   "metadata": {},
   "source": [
    "__It depends upon the use case mostly, although Arrays are used a lot because they allow random access.__\n",
    "__There are two types of access:__\n",
    "- Random Access\n",
    "- Sequential Access"
   ]
  },
  {
   "cell_type": "markdown",
   "id": "7ebd6daf",
   "metadata": {},
   "source": [
    "__Sequential Access__ : Sequential access means reading the elements one by one usually which begins at the first one. Linked Lists can only perform Sequential Access. If you want to read the 10th element in the linked lists, you need to read the first element first, then second element, then third and so on until you reach the 9th element where you will get access to 10th element.\n",
    "\n"
   ]
  },
  {
   "cell_type": "markdown",
   "id": "2c547995",
   "metadata": {},
   "source": [
    "__Random Access__ : Random Access allows you to read any element at any time. You can directly jump on to the 10th element. Arrays are faster when reading. A lot of use cases require random access and that is why Arrays are used a lot."
   ]
  },
  {
   "cell_type": "markdown",
   "id": "c52af400",
   "metadata": {},
   "source": [
    "### Selection Sort Code"
   ]
  },
  {
   "cell_type": "code",
   "execution_count": 11,
   "id": "7da62131",
   "metadata": {},
   "outputs": [],
   "source": [
    "my_list = [98, 87, 76, 90, 95, 90, 65, 71, 91, 45, 25, 20, 10]\n",
    "\n",
    "def smallest_num(x):\n",
    "    num = x[0]    #stores the smalles value\n",
    "    num_index = 0 #stores the index of smallest value\n",
    "    \n",
    "    for i in range(1,len(x)):\n",
    "        if x[i] < num:\n",
    "            num = x[i]\n",
    "            num_index = i\n",
    "    return num_index\n",
    "    \n",
    "#Now let's use this function to write a function to implement selection sort\n",
    "\n"
   ]
  },
  {
   "cell_type": "code",
   "execution_count": 14,
   "id": "7aa779f6",
   "metadata": {},
   "outputs": [],
   "source": [
    "def selection_sort(x):\n",
    "    new_list = []\n",
    "    for i in range(len(x)):\n",
    "        num = smallest_num(x)\n",
    "        new_list.append(x.pop(num))\n",
    "    return new_list"
   ]
  },
  {
   "cell_type": "code",
   "execution_count": 16,
   "id": "d6fe330f",
   "metadata": {},
   "outputs": [
    {
     "name": "stdout",
     "output_type": "stream",
     "text": [
      "[10, 20, 25, 45, 65, 71, 76, 87, 90, 90, 91, 95, 98]\n"
     ]
    }
   ],
   "source": [
    "print(selection_sort(my_list))"
   ]
  },
  {
   "cell_type": "code",
   "execution_count": 19,
   "id": "2fc8e2b1",
   "metadata": {},
   "outputs": [],
   "source": [
    "def smallest_num(x):\n",
    "    smallest = x[0]\n",
    "    smallest_index = 0\n",
    "    for i in range(1,len(x)):\n",
    "        if x[i] < smallest:\n",
    "            smallest = x[i]\n",
    "            smallest_index = i\n",
    "    return smallest_index\n",
    "\n",
    "def selectionsort(x):\n",
    "    newlist = []\n",
    "    for i in range(len(x)):\n",
    "        smallest = smallest_num(x)\n",
    "        newlist.append(x.pop(smallest))\n",
    "    return newlist"
   ]
  },
  {
   "cell_type": "code",
   "execution_count": 20,
   "id": "a78a0834",
   "metadata": {},
   "outputs": [
    {
     "data": {
      "text/plain": [
       "[7, 8, 9, 10, 11]"
      ]
     },
     "execution_count": 20,
     "metadata": {},
     "output_type": "execute_result"
    }
   ],
   "source": [
    "selectionsort([12,11,10,9,8,7])"
   ]
  },
  {
   "cell_type": "code",
   "execution_count": null,
   "id": "765e3e34",
   "metadata": {},
   "outputs": [],
   "source": []
  }
 ],
 "metadata": {
  "kernelspec": {
   "display_name": "Python 3 (ipykernel)",
   "language": "python",
   "name": "python3"
  },
  "language_info": {
   "codemirror_mode": {
    "name": "ipython",
    "version": 3
   },
   "file_extension": ".py",
   "mimetype": "text/x-python",
   "name": "python",
   "nbconvert_exporter": "python",
   "pygments_lexer": "ipython3",
   "version": "3.9.7"
  }
 },
 "nbformat": 4,
 "nbformat_minor": 5
}
